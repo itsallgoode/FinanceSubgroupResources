{
 "cells": [
  {
   "cell_type": "markdown",
   "metadata": {},
   "source": [
    "pip install alpaca-py\n",
    "pip install backtrader\n",
    "pip install matplotlib\n",
    "pip install backtrader-plotting\n",
    "pip install numpy\n",
    "pip install scikit-learn"
   ]
  },
  {
   "cell_type": "code",
   "execution_count": null,
   "metadata": {},
   "outputs": [],
   "source": [
    "import backtrader as bt\n",
    "from datetime import datetime\n",
    "from alpaca.data import StockHistoricalDataClient, TimeFrame\n",
    "from alpaca.data.requests import StockBarsRequest\n",
    "import pandas as pd\n",
    "import numpy as np\n",
    "from IPython.display import Image\n",
    "import sklearn\n"
   ]
  },
  {
   "cell_type": "code",
   "execution_count": null,
   "metadata": {},
   "outputs": [],
   "source": [
    "import backtrader as bt\n",
    "\n",
    "class BuyAndHold(bt.Strategy):\n",
    "    def nextstart(self):\n",
    "        # Buy all available cash worth of the asset\n",
    "        size = int(self.broker.get_cash() / self.data.close[0])\n",
    "        self.buy(size=size)"
   ]
  },
  {
   "cell_type": "code",
   "execution_count": null,
   "metadata": {},
   "outputs": [],
   "source": [
    "data_client = StockHistoricalDataClient('api_key', 'secret_key')\n",
    "\n",
    "def get_data(start, end):\n",
    "\n",
    "    start_time = pd.to_datetime(start).tz_localize('America/New_York')\n",
    "    end_time = pd.to_datetime(end).tz_localize('America/New_York')\n",
    "\n",
    "    # Define the request parameters\n",
    "    request_params = StockBarsRequest(\n",
    "        symbol_or_symbols=['SPY'],  \n",
    "        timeframe=TimeFrame.Day,     # Options: Minute, Hour, Day\n",
    "        start=start_time,\n",
    "        end=end_time\n",
    "    )\n",
    "    bars = data_client.get_stock_bars(request_params)\n",
    "    df = bars.df.tz_convert('America/New_York', level=1)\n",
    "\n",
    "    df.reset_index(inplace=True)\n",
    "    df = df.rename(columns={'timestamp': 'datetime'})\n",
    "    df.set_index('datetime', inplace=True)\n",
    "    df.index = pd.to_datetime(df.index)\n",
    "\n",
    "    return df"
   ]
  },
  {
   "cell_type": "code",
   "execution_count": null,
   "metadata": {},
   "outputs": [],
   "source": [
    "cerebro = bt.Cerebro()\n",
    "cerebro.addstrategy(BuyAndHold)\n",
    "df = get_data(start='2010-01-01', end='2025-02-01')\n",
    "# Create a Data Feed\n",
    "data = bt.feeds.PandasData(dataname=df)\n",
    "\n",
    "# Add the Data Feed to Cerebro\n",
    "cerebro.adddata(data)\n",
    "\n",
    "# Set initial cash\n",
    "cerebro.broker.setcash(10000.0)\n",
    "\n",
    "# Run the strategy\n",
    "cerebro.run()\n",
    "\n",
    "# Set the path to save the image\n",
    "img_path = \"backtrader_plot.png\"\n",
    "\n",
    "# Generate the plot and save it\n",
    "fig = cerebro.plot(style=\"candlestick\")[0][0]\n",
    "fig.savefig(img_path)\n",
    "\n",
    "# Display the saved image\n",
    "Image(filename=img_path)\n"
   ]
  },
  {
   "cell_type": "code",
   "execution_count": null,
   "metadata": {},
   "outputs": [],
   "source": [
    "from sklearn.ensemble import RandomForestClassifier\n",
    "from sklearn.model_selection import train_test_split\n",
    "from sklearn.preprocessing import StandardScaler\n"
   ]
  },
  {
   "cell_type": "code",
   "execution_count": null,
   "metadata": {},
   "outputs": [],
   "source": [
    "df = get_data(start='2010-01-01', end='2025-02-01')"
   ]
  },
  {
   "cell_type": "code",
   "execution_count": null,
   "metadata": {},
   "outputs": [],
   "source": [
    "def generate_features(df):\n",
    "    df['return'] = df['close'].pct_change()\n",
    "    df['sma_10'] = df['close'].rolling(10).mean()\n",
    "    df['sma_50'] = df['close'].rolling(50).mean()\n",
    "    df['rsi'] = compute_rsi(df['close'])\n",
    "    df.dropna(inplace=True)\n",
    "    return df\n",
    "\n",
    "def compute_rsi(series, period=14):\n",
    "    delta = series.diff()\n",
    "    gain = (delta.where(delta > 0, 0)).rolling(window=period).mean()\n",
    "    loss = (-delta.where(delta < 0, 0)).rolling(window=period).mean()\n",
    "    rs = gain / loss\n",
    "    return 100 - (100 / (1 + rs))"
   ]
  },
  {
   "cell_type": "code",
   "execution_count": null,
   "metadata": {},
   "outputs": [],
   "source": [
    "df = generate_features(df)"
   ]
  },
  {
   "cell_type": "code",
   "execution_count": null,
   "metadata": {},
   "outputs": [],
   "source": [
    "X = df[['return', 'sma_10', 'sma_50', 'rsi']]\n",
    "y = np.where(df['close'].shift(-1) > df['close'], 1, 0)  # 1 = Buy, 0 = Sell\n"
   ]
  },
  {
   "cell_type": "code",
   "execution_count": null,
   "metadata": {},
   "outputs": [],
   "source": [
    "X_train, X_test, y_train, y_test = train_test_split(X, y, test_size=0.2, shuffle=False)\n"
   ]
  },
  {
   "cell_type": "code",
   "execution_count": null,
   "metadata": {},
   "outputs": [],
   "source": [
    "scaler = StandardScaler()\n",
    "X_train = scaler.fit_transform(X_train)\n",
    "X_test = scaler.transform(X_test)\n"
   ]
  },
  {
   "cell_type": "code",
   "execution_count": null,
   "metadata": {},
   "outputs": [],
   "source": [
    "model = RandomForestClassifier(n_estimators=100, random_state=42)\n",
    "model.fit(X_train, y_train)"
   ]
  },
  {
   "cell_type": "code",
   "execution_count": null,
   "metadata": {},
   "outputs": [],
   "source": [
    "class MLTradingStrategy(bt.Strategy):\n",
    "    def __init__(self):\n",
    "        self.dataX = X_test  # Use test set for simulation\n",
    "        self.bar = 0\n",
    "\n",
    "    def next(self):\n",
    "        if self.bar < len(self.dataX):\n",
    "            features = self.dataX[self.bar].reshape(1, -1)\n",
    "            prediction = model.predict(features)  # Predict next movement\n",
    "            \n",
    "            if prediction == 1 and not self.position:\n",
    "                self.buy()\n",
    "            elif prediction == 0 and self.position:\n",
    "                self.sell()\n",
    "                \n",
    "            self.bar += 1\n"
   ]
  },
  {
   "cell_type": "code",
   "execution_count": null,
   "metadata": {},
   "outputs": [],
   "source": [
    "class SmaStrategy(bt.Strategy):\n",
    "    def __init__(self):\n",
    "        self.sma = bt.indicators.SimpleMovingAverage(period=15)\n",
    "\n",
    "    def next(self):\n",
    "        if self.data.close[0] > self.sma[0]:\n",
    "            self.buy()\n",
    "        elif self.data.close[0] < self.sma[0]:\n",
    "            self.sell()\n"
   ]
  },
  {
   "cell_type": "code",
   "execution_count": null,
   "metadata": {},
   "outputs": [],
   "source": [
    "cerebro = bt.Cerebro()\n",
    "cerebro.addstrategy(SmaStrategy)\n",
    "\n",
    "# Add data\n",
    "data = bt.feeds.PandasData(dataname=df)\n",
    "cerebro.adddata(data)\n",
    "\n",
    "# Set initial cash\n",
    "cerebro.broker.setcash(1000.0)\n",
    "\n",
    "# Add performance analyzers\n",
    "cerebro.addanalyzer(bt.analyzers.SharpeRatio, _name='sharpe')\n",
    "cerebro.addanalyzer(bt.analyzers.AnnualReturn, _name='returns')\n",
    "cerebro.addanalyzer(bt.analyzers.DrawDown, _name='drawdown')\n",
    "cerebro.addanalyzer(bt.analyzers.TradeAnalyzer, _name='trade_analysis')\n",
    "\n",
    "# Run backtest\n",
    "results = cerebro.run()\n",
    "strategy = results[0]\n",
    "\n",
    "# Print performance metrics\n",
    "sharpe = strategy.analyzers.sharpe.get_analysis()\n",
    "returns = strategy.analyzers.returns.get_analysis()\n",
    "drawdown = strategy.analyzers.drawdown.get_analysis()\n",
    "trades = strategy.analyzers.trade_analysis.get_analysis()\n",
    "\n",
    "print(\"\\n=== Backtest Results ===\")\n",
    "print(f\"Sharpe Ratio: {sharpe.get('sharperatio', 'N/A')}\")\n",
    "print(f\"Annual Returns: {returns}\")\n",
    "print(f\"Max Drawdown: {drawdown.get('max', 'N/A')}%\")\n",
    "print(f\"Total Trades: {trades.get('total', 'N/A')}\")\n",
    "print(f\"Winning Trades: {trades.get('won', {}).get('total', 0)}\")\n",
    "print(f\"Losing Trades: {trades.get('lost', {}).get('total', 0)}\")\n",
    "\n",
    "# Plot results\n",
    "img_path = \"backtrader_plot.png\"\n",
    "fig = cerebro.plot(style=\"candlestick\")[0][0]\n",
    "fig.set_size_inches(12, 8)  # Widen the figure to prevent clipping\n",
    "fig.savefig(img_path, dpi=300, bbox_inches='tight')"
   ]
  },
  {
   "cell_type": "code",
   "execution_count": null,
   "metadata": {},
   "outputs": [],
   "source": [
    "Image(filename=img_path)"
   ]
  },
  {
   "cell_type": "code",
   "execution_count": null,
   "metadata": {},
   "outputs": [],
   "source": []
  }
 ],
 "metadata": {
  "kernelspec": {
   "display_name": "alpaca",
   "language": "python",
   "name": "python3"
  },
  "language_info": {
   "codemirror_mode": {
    "name": "ipython",
    "version": 3
   },
   "file_extension": ".py",
   "mimetype": "text/x-python",
   "name": "python",
   "nbconvert_exporter": "python",
   "pygments_lexer": "ipython3",
   "version": "3.13.2"
  }
 },
 "nbformat": 4,
 "nbformat_minor": 2
}
